{
  "metadata": {
    "kernelspec": {
      "name": "python",
      "display_name": "Python (Pyodide)",
      "language": "python"
    },
    "language_info": {
      "codemirror_mode": {
        "name": "python",
        "version": 3
      },
      "file_extension": ".py",
      "mimetype": "text/x-python",
      "name": "python",
      "nbconvert_exporter": "python",
      "pygments_lexer": "ipython3",
      "version": "3.8"
    }
  },
  "nbformat_minor": 4,
  "nbformat": 4,
  "cells": [
    {
      "cell_type": "code",
      "source": "#myProject",
      "metadata": {
        "trusted": true
      },
      "outputs": [],
      "execution_count": 2
    },
    {
      "cell_type": "markdown",
      "source": "This notebook provides an overview of the key concepts in data analysis.\n",
      "metadata": {}
    },
    {
      "cell_type": "markdown",
      "source": "Data Science uses a variety of programming languages. The most commonly used languages include:\n\n1. Python\n2. R\n3. SQL\n4. Julia\n5. Scala\n",
      "metadata": {}
    },
    {
      "cell_type": "markdown",
      "source": "Here are some of the most commonly used libraries in Data Science:\n\n1. NumPy\n2. Pandas\n3. Matplotlib\n4. Scikit-learn\n5. TensorFlow\n6. PyTorch\n",
      "metadata": {}
    },
    {
      "cell_type": "markdown",
      "source": "| Tool          | Description                         |\n|---------------|-------------------------------------|\n| Jupyter       | Interactive notebooks for coding    |\n| RStudio       | IDE for R programming               |\n| Apache Spark  | Big data processing engine          |\n| Tableau       | Data visualization tool             |\n| Google Colab  | Cloud-based Jupyter notebook        |\n",
      "metadata": {}
    },
    {
      "cell_type": "markdown",
      "source": "Below are a few examples of basic arithmetic expressions used in programming:\n",
      "metadata": {}
    },
    {
      "cell_type": "code",
      "source": "# Multiplication and addition example\nnum1 = 5\nnum2 = 3\nproduct = num1 * num2\nsum_result = num1 + num2\n\nprint(\"Product:\", product)\nprint(\"Sum:\", sum_result)\n",
      "metadata": {
        "trusted": true
      },
      "outputs": [
        {
          "name": "stdout",
          "text": "Product: 15\nSum: 8\n",
          "output_type": "stream"
        }
      ],
      "execution_count": 3
    },
    {
      "cell_type": "code",
      "source": "# Convert minutes to hours\nminutes = 150\nhours = minutes / 60\n\nprint(f\"{minutes} minutes is equal to {hours} hours.\")\n",
      "metadata": {
        "trusted": true
      },
      "outputs": [
        {
          "name": "stdout",
          "text": "150 minutes is equal to 2.5 hours.\n",
          "output_type": "stream"
        }
      ],
      "execution_count": 4
    },
    {
      "cell_type": "markdown",
      "source": "The objectives for this notebook are:\n\n- Understand basic Python syntax\n- Learn how to work with variables and data types\n- Explore control flow and loops\n- Practice working with functions\n- Analyze data with basic Python libraries\n",
      "metadata": {}
    },
    {
      "cell_type": "markdown",
      "source": "**Author:** [Faisal Othman AL-Sulami]\n",
      "metadata": {}
    }
  ]
}